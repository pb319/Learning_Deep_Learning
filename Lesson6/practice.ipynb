{
 "cells": [
  {
   "cell_type": "code",
   "execution_count": 1,
   "metadata": {},
   "outputs": [],
   "source": [
    "import numpy as np\n",
    "import pandas as pd\n",
    "import warnings\n",
    "warnings.filterwarnings(\"ignore\")"
   ]
  },
  {
   "cell_type": "code",
   "execution_count": 2,
   "metadata": {},
   "outputs": [
    {
     "data": {
      "text/html": [
       "<div>\n",
       "<style scoped>\n",
       "    .dataframe tbody tr th:only-of-type {\n",
       "        vertical-align: middle;\n",
       "    }\n",
       "\n",
       "    .dataframe tbody tr th {\n",
       "        vertical-align: top;\n",
       "    }\n",
       "\n",
       "    .dataframe thead th {\n",
       "        text-align: right;\n",
       "    }\n",
       "</style>\n",
       "<table border=\"1\" class=\"dataframe\">\n",
       "  <thead>\n",
       "    <tr style=\"text-align: right;\">\n",
       "      <th></th>\n",
       "      <th>area</th>\n",
       "      <th>bedrooms</th>\n",
       "      <th>price</th>\n",
       "    </tr>\n",
       "  </thead>\n",
       "  <tbody>\n",
       "    <tr>\n",
       "      <th>0</th>\n",
       "      <td>1056</td>\n",
       "      <td>2</td>\n",
       "      <td>39.07</td>\n",
       "    </tr>\n",
       "    <tr>\n",
       "      <th>1</th>\n",
       "      <td>2600</td>\n",
       "      <td>4</td>\n",
       "      <td>120.00</td>\n",
       "    </tr>\n",
       "    <tr>\n",
       "      <th>2</th>\n",
       "      <td>1440</td>\n",
       "      <td>3</td>\n",
       "      <td>62.00</td>\n",
       "    </tr>\n",
       "    <tr>\n",
       "      <th>3</th>\n",
       "      <td>1521</td>\n",
       "      <td>3</td>\n",
       "      <td>75.00</td>\n",
       "    </tr>\n",
       "    <tr>\n",
       "      <th>4</th>\n",
       "      <td>1200</td>\n",
       "      <td>2</td>\n",
       "      <td>51.00</td>\n",
       "    </tr>\n",
       "  </tbody>\n",
       "</table>\n",
       "</div>"
      ],
      "text/plain": [
       "   area  bedrooms   price\n",
       "0  1056         2   39.07\n",
       "1  2600         4  120.00\n",
       "2  1440         3   62.00\n",
       "3  1521         3   75.00\n",
       "4  1200         2   51.00"
      ]
     },
     "execution_count": 2,
     "metadata": {},
     "output_type": "execute_result"
    }
   ],
   "source": [
    "df = pd.read_csv(\"/home/prasun/GitDemo/Learning_Deep_Learning/Lesson6/banglore_house.csv\")\n",
    "df.head()"
   ]
  },
  {
   "cell_type": "code",
   "execution_count": 3,
   "metadata": {},
   "outputs": [],
   "source": [
    "from sklearn.preprocessing import MinMaxScaler\n",
    "sc_x = MinMaxScaler()\n",
    "sc_y = MinMaxScaler()\n",
    "scaled_X = sc_x.fit_transform(df.drop([\"price\"],axis=\"columns\"))\n",
    "scaled_y = sc_y.fit_transform(df[[\"price\"]])\n"
   ]
  },
  {
   "cell_type": "code",
   "execution_count": 4,
   "metadata": {},
   "outputs": [
    {
     "name": "stdout",
     "output_type": "stream",
     "text": [
      "(2, 1) (2,)\n"
     ]
    }
   ],
   "source": [
    "w1 = np.array([[1.],[1.]])\n",
    "w2 = np.array([1.,1.])\n",
    "print(w1.shape, w2.shape)\n",
    "# (w.dot(scaled_X))"
   ]
  },
  {
   "cell_type": "code",
   "execution_count": 5,
   "metadata": {},
   "outputs": [],
   "source": [
    "def batch_gd(X,y_label,epochs=100,rate =0.05):\n",
    "    num_of_feature = X.shape[1]\n",
    "    w = np.ones(num_of_feature)\n",
    "    b = 0\n",
    "    sample = X.shape[0]\n",
    "\n",
    "    cost_lst = []\n",
    "    epoch_lst = []\n",
    "\n",
    "    for i in range(epochs):\n",
    "        f_x = np.dot(w,X.T) + b\n",
    "        dj_dw =  np.dot(scaled_X.T,(f_x - y_label))/sample\n",
    "        dj_db =  np.mean(f_x - y_label)\n",
    "\n",
    "        w = w - (rate * dj_dw)\n",
    "        b = b - (rate * dj_db)\n",
    "\n",
    "        cost = np.mean(np.square(y-f_x))/2\n",
    "\n",
    "        cost_lst.append(cost)\n",
    "        epoch_lst.append(i)\n",
    "\n",
    "    return w,b,cost_lst,epoch_lst \n"
   ]
  },
  {
   "cell_type": "code",
   "execution_count": 6,
   "metadata": {},
   "outputs": [],
   "source": [
    "y =scaled_y.reshape(scaled_y.shape[0])"
   ]
  },
  {
   "cell_type": "code",
   "execution_count": 7,
   "metadata": {},
   "outputs": [
    {
     "data": {
      "text/plain": [
       "(array([0.70697753, 0.6744668 ]), -0.23023942096425665)"
      ]
     },
     "execution_count": 7,
     "metadata": {},
     "output_type": "execute_result"
    }
   ],
   "source": [
    "w,b,cost_lst,epoch_lst = batch_gd(scaled_X,y,epochs= 200)\n",
    "w,b"
   ]
  },
  {
   "cell_type": "code",
   "execution_count": 8,
   "metadata": {},
   "outputs": [
    {
     "data": {
      "text/plain": [
       "Text(0.5, 1.0, 'Learning Curve')"
      ]
     },
     "execution_count": 8,
     "metadata": {},
     "output_type": "execute_result"
    },
    {
     "data": {
      "image/png": "[encoded data removed]",
      "text/plain": [
       "<Figure size 500x300 with 1 Axes>"
      ]
     },
     "metadata": {},
     "output_type": "display_data"
    }
   ],
   "source": [
    "import matplotlib.pyplot as plt\n",
    "plt.figure(figsize= (5,3))\n",
    "plt.scatter(epoch_lst,cost_lst)\n",
    "plt.plot(epoch_lst,cost_lst,color =\"black\")\n",
    "plt.xlabel(\"Epochs\")\n",
    "plt.ylabel(\"Cost\")\n",
    "plt.title(\"Learning Curve\")"
   ]
  },
  {
   "cell_type": "code",
   "execution_count": 53,
   "metadata": {},
   "outputs": [],
   "source": [
    "def predict(area,bedroom,w,b):\n",
    "    X = pd.DataFrame([area,bedroom])\n",
    "    X_scaled = sc_x.transform([[area,bedroom]])[0]\n",
    "    scaled_price = w[0]*X_scaled[0] +w[1]*X_scaled[1] + b\n",
    "    return sc_y.inverse_transform([[scaled_price]])[0][0]    "
   ]
  },
  {
   "cell_type": "code",
   "execution_count": 54,
   "metadata": {},
   "outputs": [
    {
     "data": {
      "text/plain": [
       "128.44728299049075"
      ]
     },
     "execution_count": 54,
     "metadata": {},
     "output_type": "execute_result"
    }
   ],
   "source": [
    "predict(2600,4,w,b)"
   ]
  },
  {
   "cell_type": "code",
   "execution_count": 63,
   "metadata": {},
   "outputs": [
    {
     "data": {
      "text/plain": [
       "2"
      ]
     },
     "execution_count": 63,
     "metadata": {},
     "output_type": "execute_result"
    }
   ],
   "source": [
    "import random\n",
    "random.randint(0,6)"
   ]
  },
  {
   "cell_type": "code",
   "execution_count": 78,
   "metadata": {},
   "outputs": [],
   "source": [
    "import random\n",
    "def stochastic_gradient_descent(X,y_label,epochs=100,rate=0.05):\n",
    "    num_of_feature = X.shape[1]\n",
    "    w = np.ones(num_of_feature)\n",
    "    b = 0\n",
    "    sample_size = X.shape[0]\n",
    "\n",
    "    cost_lst = []\n",
    "    epoch_lst = []\n",
    "\n",
    "    for i in range(epochs):\n",
    "        ranidx = random.randint(0,sample_size-1)\n",
    "        X_idx = X[ranidx]\n",
    "        y_idx = y_label[ranidx]\n",
    "        f_x = np.dot(X_idx.T,w) + b\n",
    "        dj_dw =  np.dot(X_idx.T,(f_x - y_idx))/sample_size\n",
    "        dj_db =  np.mean(f_x - y_idx)\n",
    "\n",
    "        w = w - (rate * dj_dw)\n",
    "        b = b - (rate * dj_db)\n",
    "\n",
    "        cost = np.square(f_x-y_idx)\n",
    "\n",
    "        if i%10 == 0:\n",
    "            cost_lst.append(cost)\n",
    "            epoch_lst.append(i) \n",
    "\n",
    "    return w,b,cost_lst,epoch_lst\n"
   ]
  },
  {
   "cell_type": "code",
   "execution_count": 81,
   "metadata": {},
   "outputs": [
    {
     "data": {
      "text/plain": [
       "([0.5167277874827307,\n",
       "  0.05420754370080599,\n",
       "  0.04399452069195482,\n",
       "  0.0005744162119835794,\n",
       "  0.006057579595949614,\n",
       "  0.07132209610603182,\n",
       "  0.006351305535680987,\n",
       "  0.030365332435626745,\n",
       "  0.003640569444990761,\n",
       "  0.031392375983520675,\n",
       "  0.014876046366396339,\n",
       "  0.08499867011925295,\n",
       "  0.045307188400255834,\n",
       "  0.010216689612782322,\n",
       "  0.0200578297572579,\n",
       "  0.018914558926570475,\n",
       "  0.218525053866969,\n",
       "  0.002769921839680755,\n",
       "  0.022821807112344498,\n",
       "  0.016800482984701916,\n",
       "  0.01990241750447819,\n",
       "  0.0056576887961454145,\n",
       "  0.177265228399378,\n",
       "  0.015346627939684426,\n",
       "  0.14596683115834586,\n",
       "  0.002873984558224408,\n",
       "  0.014427718621610186,\n",
       "  1.2389054814773329e-05,\n",
       "  0.015974304059344857,\n",
       "  0.015212503784590551,\n",
       "  0.037506806970990104,\n",
       "  0.00017107439673422938,\n",
       "  0.042732204803905396,\n",
       "  0.0165583684243785,\n",
       "  0.050542078334743376,\n",
       "  0.047636202052036815,\n",
       "  1.3238181438894976e-05,\n",
       "  0.20250965590910253,\n",
       "  0.013497856728067267,\n",
       "  0.04774694648577891,\n",
       "  0.005023387905443241,\n",
       "  0.2438310240841274,\n",
       "  0.017857687598722596,\n",
       "  0.00014622669447949074,\n",
       "  1.7392503997308278e-06,\n",
       "  0.004207932691529209,\n",
       "  0.02804950398331726,\n",
       "  0.173955229931517,\n",
       "  4.462772083353134e-05,\n",
       "  0.003396746947630848],\n",
       " [0,\n",
       "  10,\n",
       "  20,\n",
       "  30,\n",
       "  40,\n",
       "  50,\n",
       "  60,\n",
       "  70,\n",
       "  80,\n",
       "  90,\n",
       "  100,\n",
       "  110,\n",
       "  120,\n",
       "  130,\n",
       "  140,\n",
       "  150,\n",
       "  160,\n",
       "  170,\n",
       "  180,\n",
       "  190,\n",
       "  200,\n",
       "  210,\n",
       "  220,\n",
       "  230,\n",
       "  240,\n",
       "  250,\n",
       "  260,\n",
       "  270,\n",
       "  280,\n",
       "  290,\n",
       "  300,\n",
       "  310,\n",
       "  320,\n",
       "  330,\n",
       "  340,\n",
       "  350,\n",
       "  360,\n",
       "  370,\n",
       "  380,\n",
       "  390,\n",
       "  400,\n",
       "  410,\n",
       "  420,\n",
       "  430,\n",
       "  440,\n",
       "  450,\n",
       "  460,\n",
       "  470,\n",
       "  480,\n",
       "  490])"
      ]
     },
     "execution_count": 81,
     "metadata": {},
     "output_type": "execute_result"
    }
   ],
   "source": [
    "w_sgd,b_sgd,cost_lst,epoch_lst = stochastic_gradient_descent(scaled_X,y,epochs= 500)\n",
    "cost_lst,epoch_lst"
   ]
  },
  {
   "cell_type": "code",
   "execution_count": 82,
   "metadata": {},
   "outputs": [
    {
     "data": {
      "text/plain": [
       "Text(0.5, 1.0, 'Learning Curve')"
      ]
     },
     "execution_count": 82,
     "metadata": {},
     "output_type": "execute_result"
    },
    {
     "data": {
      "image/png": "[encoded data removed]",
      "text/plain": [
       "<Figure size 500x300 with 1 Axes>"
      ]
     },
     "metadata": {},
     "output_type": "display_data"
    }
   ],
   "source": [
    "import matplotlib.pyplot as plt\n",
    "plt.figure(figsize= (5,3))\n",
    "plt.scatter(epoch_lst,cost_lst)\n",
    "plt.plot(epoch_lst,cost_lst,color =\"black\")\n",
    "plt.xlabel(\"Epochs\")\n",
    "plt.ylabel(\"Cost\")\n",
    "plt.title(\"Learning Curve\")"
   ]
  }
 ],
 "metadata": {
  "kernelspec": {
   "display_name": "myproject",
   "language": "python",
   "name": "myproject"
  },
  "language_info": {
   "codemirror_mode": {
    "name": "ipython",
    "version": 3
   },
   "file_extension": ".py",
   "mimetype": "text/x-python",
   "name": "python",
   "nbconvert_exporter": "python",
   "pygments_lexer": "ipython3",
   "version": "3.11.6"
  }
 },
 "nbformat": 4,
 "nbformat_minor": 2
}
