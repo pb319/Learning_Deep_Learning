{
 "cells": [
  {
   "cell_type": "code",
   "execution_count": 3,
   "metadata": {},
   "outputs": [],
   "source": [
    "import numpy as np\n",
    "import pandas as pd\n",
    "import warnings\n",
    "warnings.filterwarnings(\"ignore\")"
   ]
  },
  {
   "cell_type": "code",
   "execution_count": 4,
   "metadata": {},
   "outputs": [
    {
     "data": {
      "text/html": [
       "<div>\n",
       "<style scoped>\n",
       "    .dataframe tbody tr th:only-of-type {\n",
       "        vertical-align: middle;\n",
       "    }\n",
       "\n",
       "    .dataframe tbody tr th {\n",
       "        vertical-align: top;\n",
       "    }\n",
       "\n",
       "    .dataframe thead th {\n",
       "        text-align: right;\n",
       "    }\n",
       "</style>\n",
       "<table border=\"1\" class=\"dataframe\">\n",
       "  <thead>\n",
       "    <tr style=\"text-align: right;\">\n",
       "      <th></th>\n",
       "      <th>area</th>\n",
       "      <th>bedrooms</th>\n",
       "      <th>price</th>\n",
       "    </tr>\n",
       "  </thead>\n",
       "  <tbody>\n",
       "    <tr>\n",
       "      <th>0</th>\n",
       "      <td>1056</td>\n",
       "      <td>2</td>\n",
       "      <td>39.07</td>\n",
       "    </tr>\n",
       "    <tr>\n",
       "      <th>1</th>\n",
       "      <td>2600</td>\n",
       "      <td>4</td>\n",
       "      <td>120.00</td>\n",
       "    </tr>\n",
       "    <tr>\n",
       "      <th>2</th>\n",
       "      <td>1440</td>\n",
       "      <td>3</td>\n",
       "      <td>62.00</td>\n",
       "    </tr>\n",
       "    <tr>\n",
       "      <th>3</th>\n",
       "      <td>1521</td>\n",
       "      <td>3</td>\n",
       "      <td>75.00</td>\n",
       "    </tr>\n",
       "    <tr>\n",
       "      <th>4</th>\n",
       "      <td>1200</td>\n",
       "      <td>2</td>\n",
       "      <td>51.00</td>\n",
       "    </tr>\n",
       "  </tbody>\n",
       "</table>\n",
       "</div>"
      ],
      "text/plain": [
       "   area  bedrooms   price\n",
       "0  1056         2   39.07\n",
       "1  2600         4  120.00\n",
       "2  1440         3   62.00\n",
       "3  1521         3   75.00\n",
       "4  1200         2   51.00"
      ]
     },
     "execution_count": 4,
     "metadata": {},
     "output_type": "execute_result"
    }
   ],
   "source": [
    "df = pd.read_csv(\"/home/prasun/GitDemo/Learning_Deep_Learning/Lesson6/banglore_house.csv\")\n",
    "df.head()"
   ]
  },
  {
   "cell_type": "code",
   "execution_count": 5,
   "metadata": {},
   "outputs": [],
   "source": [
    "from sklearn.preprocessing import MinMaxScaler\n",
    "sc_x = MinMaxScaler()\n",
    "sc_y = MinMaxScaler()\n",
    "scaled_X = sc_x.fit_transform(df.drop([\"price\"],axis=\"columns\"))\n",
    "scaled_y = sc_y.fit_transform(df[[\"price\"]])\n"
   ]
  },
  {
   "cell_type": "code",
   "execution_count": 6,
   "metadata": {},
   "outputs": [
    {
     "name": "stdout",
     "output_type": "stream",
     "text": [
      "(2, 1) (2,)\n"
     ]
    }
   ],
   "source": [
    "w1 = np.array([[1.],[1.]])\n",
    "w2 = np.array([1.,1.])\n",
    "print(w1.shape, w2.shape)\n",
    "# (w.dot(scaled_X))"
   ]
  },
  {
   "cell_type": "code",
   "execution_count": 7,
   "metadata": {},
   "outputs": [],
   "source": [
    "def batch_gd(X,y_label,epochs=100,rate =0.05):\n",
    "    num_of_feature = X.shape[1]\n",
    "    w = np.ones(num_of_feature)\n",
    "    b = 0\n",
    "    sample = X.shape[0]\n",
    "\n",
    "    cost_lst = []\n",
    "    epoch_lst = []\n",
    "\n",
    "    for i in range(epochs):\n",
    "        f_x = np.dot(w,X.T) + b\n",
    "        dj_dw =  np.dot(scaled_X.T,(f_x - y_label))/sample\n",
    "        dj_db =  np.mean(f_x - y_label)\n",
    "\n",
    "        w = w - (rate * dj_dw)\n",
    "        b = b - (rate * dj_db)\n",
    "\n",
    "        cost = np.mean(np.square(y-f_x))/2\n",
    "\n",
    "        cost_lst.append(cost)\n",
    "        epoch_lst.append(i)\n",
    "\n",
    "    return w,b,cost_lst,epoch_lst \n"
   ]
  },
  {
   "cell_type": "code",
   "execution_count": 8,
   "metadata": {},
   "outputs": [],
   "source": [
    "y =scaled_y.reshape(scaled_y.shape[0])"
   ]
  },
  {
   "cell_type": "code",
   "execution_count": 9,
   "metadata": {},
   "outputs": [
    {
     "data": {
      "text/plain": [
       "(array([0.70697753, 0.6744668 ]), -0.23023942096425665)"
      ]
     },
     "execution_count": 9,
     "metadata": {},
     "output_type": "execute_result"
    }
   ],
   "source": [
    "w,b,cost_lst,epoch_lst = batch_gd(scaled_X,y,epochs= 200)\n",
    "w,b"
   ]
  },
  {
   "cell_type": "code",
   "execution_count": 10,
   "metadata": {},
   "outputs": [
    {
     "data": {
      "text/plain": [
       "Text(0.5, 1.0, 'Learning Curve')"
      ]
     },
     "execution_count": 10,
     "metadata": {},
     "output_type": "execute_result"
    },
    {
     "data": {
      "image/png": "[encoded data removed]",
      "text/plain": [
       "<Figure size 500x300 with 1 Axes>"
      ]
     },
     "metadata": {},
     "output_type": "display_data"
    }
   ],
   "source": [
    "import matplotlib.pyplot as plt\n",
    "plt.figure(figsize= (5,3))\n",
    "plt.scatter(epoch_lst,cost_lst)\n",
    "plt.plot(epoch_lst,cost_lst,color =\"black\")\n",
    "plt.xlabel(\"Epochs\")\n",
    "plt.ylabel(\"Cost\")\n",
    "plt.title(\"Learning Curve\")"
   ]
  },
  {
   "cell_type": "code",
   "execution_count": 11,
   "metadata": {},
   "outputs": [],
   "source": [
    "def predict(area,bedroom,w,b):\n",
    "    X = pd.DataFrame([area,bedroom])\n",
    "    X_scaled = sc_x.transform([[area,bedroom]])[0]\n",
    "    scaled_price = w[0]*X_scaled[0] +w[1]*X_scaled[1] + b\n",
    "    return sc_y.inverse_transform([[scaled_price]])[0][0]    "
   ]
  },
  {
   "cell_type": "code",
   "execution_count": 12,
   "metadata": {},
   "outputs": [
    {
     "data": {
      "text/plain": [
       "128.44728299049075"
      ]
     },
     "execution_count": 12,
     "metadata": {},
     "output_type": "execute_result"
    }
   ],
   "source": [
    "predict(2600,4,w,b)"
   ]
  },
  {
   "cell_type": "code",
   "execution_count": 13,
   "metadata": {},
   "outputs": [
    {
     "data": {
      "text/plain": [
       "0"
      ]
     },
     "execution_count": 13,
     "metadata": {},
     "output_type": "execute_result"
    }
   ],
   "source": [
    "import random\n",
    "random.randint(0,6)"
   ]
  },
  {
   "cell_type": "code",
   "execution_count": 14,
   "metadata": {},
   "outputs": [],
   "source": [
    "import random\n",
    "def stochastic_gradient_descent(X,y_label,epochs=100,rate=0.05):\n",
    "    num_of_feature = X.shape[1]\n",
    "    w = np.ones(num_of_feature)\n",
    "    b = 0\n",
    "    sample_size = X.shape[0]\n",
    "\n",
    "    cost_lst = []\n",
    "    epoch_lst = []\n",
    "\n",
    "    for i in range(epochs):\n",
    "        ranidx = random.randint(0,sample_size-1)\n",
    "        X_idx = X[ranidx]\n",
    "        y_idx = y_label[ranidx]\n",
    "        f_x = np.dot(X_idx.T,w) + b\n",
    "        dj_dw =  np.dot(X_idx.T,(f_x - y_idx))/sample_size\n",
    "        dj_db =  np.mean(f_x - y_idx)\n",
    "\n",
    "        w = w - (rate * dj_dw)\n",
    "        b = b - (rate * dj_db)\n",
    "\n",
    "        cost = np.square(f_x-y_idx)\n",
    "\n",
    "        if i%10 == 0:\n",
    "            cost_lst.append(cost)\n",
    "            epoch_lst.append(i) \n",
    "\n",
    "    return w,b,cost_lst,epoch_lst\n"
   ]
  },
  {
   "cell_type": "code",
   "execution_count": 15,
   "metadata": {},
   "outputs": [],
   "source": [
    "w_sgd,b_sgd,cost_lst,epoch_lst = stochastic_gradient_descent(scaled_X,y,epochs= 500)"
   ]
  },
  {
   "cell_type": "code",
   "execution_count": 18,
   "metadata": {},
   "outputs": [
    {
     "data": {
      "text/plain": [
       "Text(0.5, 1.0, 'Learning Curve')"
      ]
     },
     "execution_count": 18,
     "metadata": {},
     "output_type": "execute_result"
    },
    {
     "data": {
      "image/png": "[encoded data removed]",
      "text/plain": [
       "<Figure size 500x300 with 1 Axes>"
      ]
     },
     "metadata": {},
     "output_type": "display_data"
    }
   ],
   "source": [
    "import matplotlib.pyplot as plt\n",
    "plt.figure(figsize= (5,3))\n",
    "plt.scatter(epoch_lst,cost_lst,color = \"black\")\n",
    "plt.plot(epoch_lst,cost_lst,color =\"red\")\n",
    "plt.xlabel(\"Epochs\")\n",
    "plt.ylabel(\"Cost\")\n",
    "plt.title(\"Learning Curve\")"
   ]
  },
  {
   "cell_type": "code",
   "execution_count": 1,
   "metadata": {},
   "outputs": [
    {
     "name": "stdout",
     "output_type": "stream",
     "text": [
      "Collecting Sympy\n",
      "  Obtaining dependency information for Sympy from https://files.pythonhosted.org/packages/b2/fe/81695a1aa331a842b582453b605175f419fe8540355886031328089d840a/sympy-1.13.1-py3-none-any.whl.metadata\n",
      "  Downloading sympy-1.13.1-py3-none-any.whl.metadata (12 kB)\n",
      "Collecting mpmath<1.4,>=1.1.0 (from Sympy)\n",
      "  Obtaining dependency information for mpmath<1.4,>=1.1.0 from https://files.pythonhosted.org/packages/43/e3/7d92a15f894aa0c9c4b49b8ee9ac9850d6e63b03c9c32c0367a13ae62209/mpmath-1.3.0-py3-none-any.whl.metadata\n",
      "  Downloading mpmath-1.3.0-py3-none-any.whl.metadata (8.6 kB)\n",
      "Downloading sympy-1.13.1-py3-none-any.whl (6.2 MB)\n",
      "\u001b[2K   \u001b[90m━━━━━━━━━━━━━━━━━━━━━━━━━━━━━━━━━━━━━━━━\u001b[0m \u001b[32m6.2/6.2 MB\u001b[0m \u001b[31m2.0 MB/s\u001b[0m eta \u001b[36m0:00:00\u001b[0m00:01\u001b[0m00:01\u001b[0m0m\n",
      "\u001b[?25hDownloading mpmath-1.3.0-py3-none-any.whl (536 kB)\n",
      "\u001b[2K   \u001b[90m━━━━━━━━━━━━━━━━━━━━━━━━━━━━━━━━━━━━━━━━\u001b[0m \u001b[32m536.2/536.2 kB\u001b[0m \u001b[31m2.7 MB/s\u001b[0m eta \u001b[36m0:00:00\u001b[0ma \u001b[36m0:00:01\u001b[0m\n",
      "\u001b[?25hInstalling collected packages: mpmath, Sympy\n",
      "Successfully installed Sympy-1.13.1 mpmath-1.3.0\n",
      "Note: you may need to restart the kernel to use updated packages.\n"
     ]
    }
   ],
   "source": [
    "pip install Sympy"
   ]
  },
  {
   "cell_type": "code",
   "execution_count": 10,
   "metadata": {},
   "outputs": [
    {
     "data": {
      "text/latex": [
       "$\\displaystyle w^{2}$"
      ],
      "text/plain": [
       "w**2"
      ]
     },
     "execution_count": 10,
     "metadata": {},
     "output_type": "execute_result"
    }
   ],
   "source": [
    "# Finding Derivative with Symbolic Python\n",
    "import sympy\n",
    "J,w = symbols('J,w')\n",
    "J = w**2\n",
    "J"
   ]
  },
  {
   "cell_type": "code",
   "execution_count": 11,
   "metadata": {},
   "outputs": [
    {
     "data": {
      "text/plain": [
       "(2*w, 6)"
      ]
     },
     "execution_count": 11,
     "metadata": {},
     "output_type": "execute_result"
    }
   ],
   "source": [
    "dj_dw = diff(J)\n",
    "dj_dw, dj_dw.subs([(w,3)]) #derivative at w = 3"
   ]
  }
 ],
 "metadata": {
  "kernelspec": {
   "display_name": "myproject",
   "language": "python",
   "name": "myproject"
  },
  "language_info": {
   "codemirror_mode": {
    "name": "ipython",
    "version": 3
   },
   "file_extension": ".py",
   "mimetype": "text/x-python",
   "name": "python",
   "nbconvert_exporter": "python",
   "pygments_lexer": "ipython3",
   "version": "3.11.6"
  }
 },
 "nbformat": 4,
 "nbformat_minor": 2
}
