{
 "cells": [
  {
   "cell_type": "code",
   "execution_count": 2,
   "metadata": {},
   "outputs": [],
   "source": [
    "import warnings\n",
    "warnings.filterwarnings(\"ignore\")"
   ]
  },
  {
   "cell_type": "code",
   "execution_count": 3,
   "metadata": {},
   "outputs": [
    {
     "data": {
      "text/html": [
       "<div>\n",
       "<style scoped>\n",
       "    .dataframe tbody tr th:only-of-type {\n",
       "        vertical-align: middle;\n",
       "    }\n",
       "\n",
       "    .dataframe tbody tr th {\n",
       "        vertical-align: top;\n",
       "    }\n",
       "\n",
       "    .dataframe thead th {\n",
       "        text-align: right;\n",
       "    }\n",
       "</style>\n",
       "<table border=\"1\" class=\"dataframe\">\n",
       "  <thead>\n",
       "    <tr style=\"text-align: right;\">\n",
       "      <th></th>\n",
       "      <th>area</th>\n",
       "      <th>bedrooms</th>\n",
       "      <th>price</th>\n",
       "    </tr>\n",
       "  </thead>\n",
       "  <tbody>\n",
       "    <tr>\n",
       "      <th>0</th>\n",
       "      <td>1056</td>\n",
       "      <td>2</td>\n",
       "      <td>39.07</td>\n",
       "    </tr>\n",
       "    <tr>\n",
       "      <th>1</th>\n",
       "      <td>2600</td>\n",
       "      <td>4</td>\n",
       "      <td>120.00</td>\n",
       "    </tr>\n",
       "    <tr>\n",
       "      <th>2</th>\n",
       "      <td>1440</td>\n",
       "      <td>3</td>\n",
       "      <td>62.00</td>\n",
       "    </tr>\n",
       "    <tr>\n",
       "      <th>3</th>\n",
       "      <td>1521</td>\n",
       "      <td>3</td>\n",
       "      <td>75.00</td>\n",
       "    </tr>\n",
       "    <tr>\n",
       "      <th>4</th>\n",
       "      <td>1200</td>\n",
       "      <td>2</td>\n",
       "      <td>51.00</td>\n",
       "    </tr>\n",
       "  </tbody>\n",
       "</table>\n",
       "</div>"
      ],
      "text/plain": [
       "   area  bedrooms   price\n",
       "0  1056         2   39.07\n",
       "1  2600         4  120.00\n",
       "2  1440         3   62.00\n",
       "3  1521         3   75.00\n",
       "4  1200         2   51.00"
      ]
     },
     "execution_count": 3,
     "metadata": {},
     "output_type": "execute_result"
    }
   ],
   "source": [
    "import numpy as np \n",
    "import pandas as pd\n",
    "df = pd.read_csv(\"/home/prasun/GitDemo/Learning_Deep_Learning/Lesson6/banglore_house.csv\")\n",
    "df.head()"
   ]
  },
  {
   "cell_type": "code",
   "execution_count": 4,
   "metadata": {},
   "outputs": [
    {
     "name": "stdout",
     "output_type": "stream",
     "text": [
      "[2, 3, 6, 1, 5, 3, 5, 2, 5, 1]\n"
     ]
    }
   ],
   "source": [
    "import random\n",
    "lst = []\n",
    "for _ in range(10):\n",
    "    lst.append(random.randint(1,6))\n",
    "print(lst)\n"
   ]
  },
  {
   "cell_type": "code",
   "execution_count": 5,
   "metadata": {},
   "outputs": [
    {
     "data": {
      "text/plain": [
       "((16, 2), (4, 2), (16, 1), (4, 1))"
      ]
     },
     "execution_count": 5,
     "metadata": {},
     "output_type": "execute_result"
    }
   ],
   "source": [
    "from sklearn.model_selection import train_test_split\n",
    "X_train, X_test, y_train, y_test = train_test_split((df.drop([\"price\"],axis='columns')), df[['price']], test_size= 0.20)\n",
    "X_train.shape, X_test.shape, y_train.shape, y_test.shape"
   ]
  },
  {
   "cell_type": "code",
   "execution_count": 6,
   "metadata": {},
   "outputs": [],
   "source": [
    "from sklearn.preprocessing import MinMaxScaler\n",
    "scx = MinMaxScaler()\n",
    "scy = MinMaxScaler()\n",
    "X_trainsc = scx.fit_transform(X_train) \n",
    "y_trainsc = scy.fit_transform(y_train)"
   ]
  },
  {
   "cell_type": "code",
   "execution_count": 7,
   "metadata": {},
   "outputs": [],
   "source": [
    "def sigmoid(x):\n",
    "    return 1/(1+np.exp(-x))\n"
   ]
  },
  {
   "cell_type": "code",
   "execution_count": 8,
   "metadata": {},
   "outputs": [],
   "source": [
    "def logloss(y_true,f_x):\n",
    "    eps = 1e-15\n",
    "    y_pred = [max(i,eps) for i in f_x]\n",
    "    y_pred = [min(i,1-eps) for i in y_pred]\n",
    "    y_pred = np.array(y_pred)\n",
    "    loss = (y_true)*(np.log(y_pred))+(1-y_true)*(np.log(1-y_pred))\n",
    "    return -np.mean(loss)\n",
    "    "
   ]
  },
  {
   "cell_type": "code",
   "execution_count": 9,
   "metadata": {},
   "outputs": [],
   "source": [
    "import random\n",
    "def minibatch(X,y,epochs=100,rate=0.05,size = 0.20):\n",
    "    batch = int(X.shape[0]*size)\n",
    "\n",
    "    w = np.ones(X.shape[1])\n",
    "    b = 0 \n",
    "    \n",
    "    for i in range(epochs):\n",
    "        idx = []\n",
    "        idy = []\n",
    "\n",
    "        for i in range(epochs):\n",
    "\n",
    "            for _ in range(batch):\n",
    "                id = (random.randint(0,X.shape[0]-1))\n",
    "                idx.append(X[id])\n",
    "                idy.append(y[id])\n",
    "          \n",
    "\n",
    "            X_out = np.array(idx)\n",
    "            y_out = np.array(idy)\n",
    "\n",
    "            f_x = np.dot(X_out,w) + b\n",
    "            dj_dw = np.dot(X_out.T, (f_x-y_out))/(batch)\n",
    "            dj_db = np.mean(f_x-y_out)\n",
    "\n",
    "            w = w - rate * dj_dw\n",
    "            b = b - rate * dj_db\n",
    "\n",
    "            cost = np.mean(np.square(f_x - y_out))/2\n",
    "            print( f\"iteration:{i}, w:{w}, b:{b}, loss: {cost}\")\n",
    "\n",
    "        return w,b"
   ]
  },
  {
   "cell_type": "code",
   "execution_count": 10,
   "metadata": {},
   "outputs": [],
   "source": [
    "import numpy as np\n",
    "import random\n",
    "\n",
    "def minibatch(X, y, epochs=100, rate=0.05, size=0.20):\n",
    "    batch_size = int(X.shape[0] * size)\n",
    "    w = np.ones(X.shape[1])\n",
    "    b = 0\n",
    "    \n",
    "    for epoch in range(epochs):\n",
    "        # Shuffle the data at the start of each epoch\n",
    "        shuffled_indices = np.random.permutation(X.shape[0])\n",
    "        X_shuffled = X.values[shuffled_indices]\n",
    "        y_shuffled = y.values[shuffled_indices]\n",
    "        \n",
    "        for i in range(0, X.shape[0], batch_size):\n",
    "            X_batch = X_shuffled[i:i + batch_size]\n",
    "            y_batch = y_shuffled[i:i + batch_size]\n",
    "            \n",
    "            f_x = np.dot(X_batch, w) + b\n",
    "            dj_dw = np.dot(X_batch.T, (f_x - y_batch)) / batch_size\n",
    "            dj_db = np.mean(f_x - y_batch)\n",
    "            \n",
    "            w = w - rate * dj_dw\n",
    "            b = b - rate * dj_db\n",
    "            \n",
    "            cost = np.mean(np.square(f_x - y_batch)) / 2\n",
    "            print(f\"Iteration: {epoch}, Batch: {i//batch_size + 1}, w: {w}, b: {b}, Loss: {cost}\")\n",
    "\n",
    "    return w, b\n"
   ]
  },
  {
   "cell_type": "code",
   "execution_count": 11,
   "metadata": {},
   "outputs": [
    {
     "ename": "ValueError",
     "evalue": "operands could not be broadcast together with shapes (2,) (2,3) ",
     "output_type": "error",
     "traceback": [
      "\u001b[0;31m---------------------------------------------------------------------------\u001b[0m",
      "\u001b[0;31mValueError\u001b[0m                                Traceback (most recent call last)",
      "Cell \u001b[0;32mIn[11], line 1\u001b[0m\n\u001b[0;32m----> 1\u001b[0m \u001b[43mminibatch\u001b[49m\u001b[43m(\u001b[49m\u001b[43mX_train\u001b[49m\u001b[43m,\u001b[49m\u001b[43my_train\u001b[49m\u001b[43m)\u001b[49m\n",
      "Cell \u001b[0;32mIn[10], line 23\u001b[0m, in \u001b[0;36mminibatch\u001b[0;34m(X, y, epochs, rate, size)\u001b[0m\n\u001b[1;32m     20\u001b[0m dj_dw \u001b[38;5;241m=\u001b[39m np\u001b[38;5;241m.\u001b[39mdot(X_batch\u001b[38;5;241m.\u001b[39mT, (f_x \u001b[38;5;241m-\u001b[39m y_batch)) \u001b[38;5;241m/\u001b[39m batch_size\n\u001b[1;32m     21\u001b[0m dj_db \u001b[38;5;241m=\u001b[39m np\u001b[38;5;241m.\u001b[39mmean(f_x \u001b[38;5;241m-\u001b[39m y_batch)\n\u001b[0;32m---> 23\u001b[0m w \u001b[38;5;241m=\u001b[39m \u001b[43mw\u001b[49m\u001b[43m \u001b[49m\u001b[38;5;241;43m-\u001b[39;49m\u001b[43m \u001b[49m\u001b[43mrate\u001b[49m\u001b[43m \u001b[49m\u001b[38;5;241;43m*\u001b[39;49m\u001b[43m \u001b[49m\u001b[43mdj_dw\u001b[49m\n\u001b[1;32m     24\u001b[0m b \u001b[38;5;241m=\u001b[39m b \u001b[38;5;241m-\u001b[39m rate \u001b[38;5;241m*\u001b[39m dj_db\n\u001b[1;32m     26\u001b[0m cost \u001b[38;5;241m=\u001b[39m np\u001b[38;5;241m.\u001b[39mmean(np\u001b[38;5;241m.\u001b[39msquare(f_x \u001b[38;5;241m-\u001b[39m y_batch)) \u001b[38;5;241m/\u001b[39m \u001b[38;5;241m2\u001b[39m\n",
      "\u001b[0;31mValueError\u001b[0m: operands could not be broadcast together with shapes (2,) (2,3) "
     ]
    }
   ],
   "source": [
    "minibatch(X_train,y_train)"
   ]
  },
  {
   "cell_type": "code",
   "execution_count": null,
   "metadata": {},
   "outputs": [
    {
     "data": {
      "text/plain": [
       "array([[1., 1., 1.],\n",
       "       [1., 1., 1.],\n",
       "       [1., 1., 1.]])"
      ]
     },
     "execution_count": 40,
     "metadata": {},
     "output_type": "execute_result"
    }
   ],
   "source": [
    "import numpy as np\n",
    "X = np.array([[1,2,3],[4,1,6]]) # 2x3 Matrix\n",
    "# W = np.array([[w11],[w12],[w13]]) # Each 3x1 Matrix ,Assuming 3 Perceptron Dense Layer\n",
    "W = np.array([[4,1,0.4],[5,1,6],[6,0.25,4]]) # 3x3 Matrix\n",
    "W1 =  np.ones(shape=(3,3))\n",
    "b = 0\n",
    "W1 + b\n",
    "\n"
   ]
  },
  {
   "cell_type": "code",
   "execution_count": null,
   "metadata": {},
   "outputs": [
    {
     "name": "stdout",
     "output_type": "stream",
     "text": [
      "Input:\n",
      "\n",
      "[[32.    3.75 24.4 ]\n",
      " [57.    6.5  31.6 ]] \n",
      "\n",
      "Output: \n",
      "\n",
      "[[1.         0.97702263 1.        ]\n",
      " [1.         0.99849882 1.        ]] \n"
     ]
    }
   ],
   "source": [
    "# Matrix Multiplicaion\n",
    "out = X @ W + b\n",
    "print(f\"Input:\\n\\n{out} \\n\\nOutput: \\n\\n{sigmoid(out)} \")\n"
   ]
  },
  {
   "cell_type": "code",
   "execution_count": null,
   "metadata": {},
   "outputs": [],
   "source": [
    "def batch_gradient_descent(X,y,epochs = 100, rate = 0.05):\n",
    "    feature = X.shape[1]                   # Assume 3x10\n",
    "    W = np.ones(shape=(feature))           # 3x1\n",
    "    b = 0\n",
    "    for i in range(epochs):\n",
    "        f_x = (X @ W) + b                  # 10x1\n",
    "        error = f_x - y                    # 10x1\n",
    "        weight_grad = ( X.T @ error) / X.shape[1] # 1x1\n",
    "        bias_grad = np.mean(error)\n",
    "        W = W - weight_grad                # 3x1\n",
    "        b = b - bias_grad                  # 1x1\n",
    "        cost = np.sum(error**2) /X.shape[1]\n",
    "        print(f\"W:{W},  b:{b},  Cost:{cost},  Iteration:{i}/{epochs}\")\n",
    "    \n",
    "    return W,b\n",
    "\n"
   ]
  },
  {
   "cell_type": "code",
   "execution_count": null,
   "metadata": {},
   "outputs": [],
   "source": [
    "X = X_train.values.reshape(X_train.shape[0],X_train.shape[1])\n",
    "y = y_train.values.reshape(X_train.shape[0])"
   ]
  },
  {
   "cell_type": "code",
   "execution_count": null,
   "metadata": {},
   "outputs": [
    {
     "ename": "NameError",
     "evalue": "name 'batch_gradient_descent' is not defined",
     "output_type": "error",
     "traceback": [
      "\u001b[0;31m---------------------------------------------------------------------------\u001b[0m",
      "\u001b[0;31mNameError\u001b[0m                                 Traceback (most recent call last)",
      "Cell \u001b[0;32mIn[1], line 1\u001b[0m\n\u001b[0;32m----> 1\u001b[0m \u001b[43mbatch_gradient_descent\u001b[49m(X,y,rate\u001b[38;5;241m=\u001b[39m \u001b[38;5;241m0.0005\u001b[39m)\n",
      "\u001b[0;31mNameError\u001b[0m: name 'batch_gradient_descent' is not defined"
     ]
    }
   ],
   "source": [
    "batch_gradient_descent(X,y,rate= 0.0005)"
   ]
  },
  {
   "cell_type": "code",
   "execution_count": null,
   "metadata": {},
   "outputs": [
    {
     "name": "stdout",
     "output_type": "stream",
     "text": [
      "W:[-5.49817994 -3.50293129],  b:0.3410954751537022,  Cost:21.818059801715904,  Iteration:0/100\n",
      "W:[22.20684218  7.85078371],  b:0.22826335147304921,  Cost:189.8496679285647,  Iteration:1/100\n",
      "W:[-119.71885408   13.07421988],  b:-0.5636684385806048,  Cost:3165.3070312095274,  Iteration:2/100\n",
      "W:[ 792.4777127  -434.73291272],  b:13.77922903925666,  Cost:114884.19585988414,  Iteration:3/100\n",
      "W:[-6280.66492875  5195.45863582],  b:-145.62744940491783,  Cost:8072231.838188123,  Iteration:4/100\n",
      "W:[ 54868.63659943 -52797.13595757],  b:1440.5862189484333,  Cost:687190516.7348236,  Iteration:5/100\n",
      "W:[-501007.00321387  510470.16702771],  b:-13784.775975130171,  Cost:60414628703.059784,  Iteration:6/100\n",
      "W:[ 4657592.29693544 -4849643.34766314],  b:130477.05317486229,  Cost:5336580232343.8955,  Iteration:7/100\n",
      "W:[-43603214.79797195  45775974.52979413],  b:-1229861.4150615246,  Cost:471715308404164.75,  Iteration:8/100\n",
      "W:[ 4.09297435e+08 -4.31033414e+08],  b:11574483.639315633,  Cost:4.1700319240300744e+16,  Iteration:9/100\n",
      "W:[-3.84593581e+09  4.05495819e+09],  b:-108865643.2422139,  Cost:3.6864205930850893e+18,  Iteration:10/100\n",
      "W:[ 3.61520469e+10 -3.81339096e+10],  b:1023724657.6852415,  Cost:3.258901704591613e+20,  Iteration:11/100\n",
      "W:[-3.39881373e+11  3.58574430e+11],  b:-9625843391.848717,  Cost:2.8809635576879088e+22,  Iteration:12/100\n",
      "W:[ 3.19555232e+12 -3.37151991e+12],  b:90506657111.11627,  Cost:2.5468553877637e+24,  Iteration:13/100\n",
      "W:[-3.00450984e+13  3.17003437e+13],  b:-850975378548.0137,  Cost:2.251494083434096e+26,  Iteration:14/100\n",
      "W:[ 2.82491110e+14 -2.98056859e+14],  b:8001132675467.846,  Cost:1.9903861194532474e+28,  Iteration:15/100\n",
      "W:[-2.65605613e+15  2.80241918e+15],  b:-75228983624613.19,  Cost:1.759559100841186e+30,  Iteration:16/100\n",
      "W:[ 2.49729708e+16 -2.63491512e+16],  b:707324385320022.2,  Cost:1.5555013166278614e+32,  Iteration:17/100\n",
      "W:[-2.34802846e+17  2.47742202e+17],  b:-6650464185742447.0,  Cost:1.3751083125769267e+34,  Iteration:18/100\n",
      "W:[ 2.2076823e+18 -2.3293422e+18],  b:6.252954178747993e+16,  Cost:1.2156356610601513e+36,  Iteration:19/100\n",
      "W:[-2.07572502e+19  2.19011325e+19],  b:-5.87920383766654e+17,  Cost:1.0746572083997624e+38,  Iteration:20/100\n",
      "W:[ 1.95165513e+20 -2.05920621e+20],  b:5.527793153207623e+18,  Cost:9.500281643254895e+39,  Iteration:21/100\n",
      "W:[-1.83500113e+21  1.93612371e+21],  b:-5.197386896523e+19,  Cost:8.39852471985577e+41,  Iteration:22/100\n",
      "W:[ 1.72531977e+22 -1.82039807e+22],  b:4.8867296136041326e+20,  Cost:7.424539620897218e+43,  Iteration:23/100\n",
      "W:[-1.62219426e+23  1.71158956e+23],  b:-4.5946408790301847e+21,  Cost:6.56350852334209e+45,  Iteration:24/100\n",
      "W:[ 1.52523275e+24 -1.60928473e+24],  b:4.320010819219611e+22,  Cost:5.802332041535837e+47,  Iteration:25/100\n",
      "W:[-1.43406681e+25  1.51309485e+25],  b:-4.061795898212484e+23,  Cost:5.129429938348036e+49,  Iteration:26/100\n",
      "W:[ 1.34835002e+26 -1.42265442e+26],  b:3.819014953545045e+24,  Cost:4.534564948037134e+51,  Iteration:27/100\n",
      "W:[-1.26775668e+27  1.33761977e+27],  b:-3.5907454684264897e+25,  Cost:4.008687030549289e+53,  Iteration:28/100\n",
      "W:[ 1.19198055e+28 -1.25766780e+28],  b:3.376120066506396e+26,  Cost:3.5437956877980267e+55,  Iteration:29/100\n",
      "W:[-1.1207337e+29  1.1824947e+29],  b:-3.1743232160750225e+27,  Cost:3.132818247259144e+57,  Iteration:30/100\n",
      "W:[ 1.05374541e+30 -1.11181484e+30],  b:2.984588131230638e+28,  Cost:2.7695022611357786e+59,  Iteration:31/100\n",
      "W:[-9.90761123e+30  1.04535964e+31],  b:-2.80619385825942e+29,  Cost:2.4483203840971887e+61,  Iteration:32/100\n",
      "W:[ 9.31541525e+31 -9.82876585e+31],  b:2.6384625361640647e+30,  Cost:2.1643862824389045e+63,  Iteration:33/100\n",
      "W:[-8.7586159e+32  9.2412826e+32],  b:-2.4807568209343023e+31,  Cost:1.9133802953395422e+65,  Iteration:34/100\n",
      "W:[ 8.23509746e+33 -8.68891429e+33],  b:2.332477463772972e+32,  Cost:1.6914837172541434e+67,  Iteration:35/100\n",
      "W:[-7.74287068e+34  8.16956205e+34],  b:-2.1930610340757944e+33,  Cost:1.4953207016424144e+69,  Iteration:36/100\n",
      "W:[ 7.28006518e+35 -7.68125243e+35],  b:2.0619777785127213e+34,  Cost:1.321906902178242e+71,  Iteration:37/100\n",
      "W:[-6.84492242e+36  7.22212997e+36],  b:-1.938729608075881e+35,  Cost:1.1686040700882052e+73,  Iteration:38/100\n",
      "W:[ 6.43578893e+37 -6.79045010e+37],  b:1.8228482054453297e+36,  Cost:1.033079916881001e+75,  Iteration:39/100\n",
      "W:[-6.05111009e+38  6.38457252e+38],  b:-1.7138932454809895e+37,  Cost:9.132726318352632e+76,  Iteration:40/100\n",
      "W:[ 5.68942421e+39 -6.00295498e+39],  b:1.6114507220790398e+38,  Cost:8.073595144289145e+78,  Iteration:41/100\n",
      "W:[-5.34935696e+40  5.64414742e+40],  b:-1.515131375035145e+39,  Cost:7.13729244496259e+80,  Iteration:42/100\n",
      "W:[ 5.02961614e+41 -5.30678644e+41],  b:1.4245692109369333e+40,  Cost:6.309573682419923e+82,  Iteration:43/100\n",
      "W:[-4.72898681e+42  4.98959014e+42],  b:-1.3394201124654309e+41,  Cost:5.57784627166062e+84,  Iteration:44/100\n",
      "W:[ 4.44632665e+43 -4.69135324e+43],  b:1.2593605308210822e+42,  Cost:4.930978002042397e+86,  Iteration:45/100\n",
      "W:[-4.18056160e+44  4.41094251e+44],  b:-1.1840862563058544e+43,  Cost:4.359127676243249e+88,  Iteration:46/100\n",
      "W:[ 3.93068182e+45 -4.14729244e+45],  b:1.113311262389884e+44,  Cost:3.8535953901881722e+90,  Iteration:47/100\n",
      "W:[-3.69573780e+46  3.89940121e+46],  b:-1.046766618870373e+45,  Cost:3.406690176158735e+92,  Iteration:48/100\n",
      "W:[ 3.47483681e+47 -3.66632689e+47],  b:9.841994699929566e+45,  Cost:3.011612995460257e+94,  Iteration:49/100\n",
      "W:[-3.26713948e+48  3.44718385e+48],  b:-9.253720736526173e+46,  Cost:2.6623533005434335e+96,  Iteration:50/100\n",
      "W:[ 3.07185660e+49 -3.24113939e+49],  b:8.700608980233174e+47,  Cost:2.353597592917564e+98,  Iteration:51/100\n",
      "W:[-2.88824613e+50  3.04741058e+50],  b:-8.180557721837202e+48,  Cost:2.0806485856917088e+100,  Iteration:52/100\n",
      "W:[ 2.71561040e+51 -2.86526129e+51],  b:7.691590875115588e+49,  Cost:1.8393537409147663e+102,  Iteration:53/100\n",
      "W:[-2.55329341e+52  2.69399940e+52],  b:-7.231850468121267e+50,  Cost:1.6260420945098703e+104,  Iteration:54/100\n",
      "W:[ 2.40067841e+53 -2.53297415e+53],  b:6.799589583277181e+51,  Cost:1.437468407682743e+106,  Iteration:55/100\n",
      "W:[-2.25718549e+54  2.38157366e+54],  b:-6.393165719454177e+52,  Cost:1.2707637951456603e+108,  Iteration:56/100\n",
      "W:[ 2.12226940e+55 -2.23922267e+55],  b:6.011034550809584e+53,  Cost:1.123392079034411e+110,  Iteration:57/100\n",
      "W:[-1.99541749e+56  2.10538024e+56],  b:-5.6517440586713604e+54,  Cost:9.931112045040592e+111,  Iteration:58/100\n",
      "W:[ 1.87614775e+57 -1.97953783e+57],  b:5.313929014170277e+55,  Cost:8.77939129995675e+113,  Iteration:59/100\n",
      "W:[-1.76400697e+58  1.86121725e+58],  b:-4.996305790655168e+56,  Cost:7.761236732420857e+115,  Iteration:60/100\n",
      "W:[ 1.65856906e+59 -1.74996890e+59],  b:4.697667486179647e+57,  Cost:6.86115854261736e+117,  Iteration:61/100\n",
      "W:[-1.55943337e+60  1.64537007e+60],  b:-4.416879337526618e+58,  Cost:6.065463297915355e+119,  Iteration:62/100\n",
      "W:[ 1.46622319e+61 -1.54702330e+61],  b:4.152874408344944e+59,  Cost:5.362045606415005e+121,  Iteration:63/100\n",
      "W:[-1.37858436e+62  1.45455490e+62],  b:-3.904649535014027e+60,  Cost:4.740203950315899e+123,  Iteration:64/100\n",
      "W:[ 1.29618386e+63 -1.36761350e+63],  b:3.6712615148314553e+61,  Cost:4.190477877269174e+125,  Iteration:65/100\n",
      "W:[-1.21870859e+64  1.28586875e+64],  b:-3.451823522039641e+62,  Cost:3.704504072807271e+127,  Iteration:66/100\n",
      "W:[ 1.14586415e+65 -1.20901003e+65],  b:3.245501738073038e+63,  Cost:3.274889124194306e+129,  Iteration:67/100\n",
      "W:[-1.07737376e+66  1.13674530e+66],  b:-3.0515121832216754e+64,  Cost:2.8950970399767506e+131,  Iteration:68/100\n",
      "W:[ 1.01297717e+67 -1.06879996e+67],  b:2.8691177376718927e+65,  Cost:2.559349814001473e+133,  Iteration:69/100\n",
      "W:[-9.52429678e+67  1.00491584e+68],  b:-2.6976253406049355e+66,  Cost:2.2625395211215367e+135,  Iteration:70/100\n",
      "W:[ 8.95501220e+68 -9.44850184e+68],  b:2.5363833567105072e+67,  Cost:2.0001506072486915e+137,  Iteration:71/100\n",
      "W:[-8.41975480e+69  8.88374766e+69],  b:-2.3847791001086257e+68,  Cost:1.7681911915042338e+139,  Iteration:72/100\n",
      "W:[ 7.91649071e+70 -8.35274987e+70],  b:2.242236506271168e+69,  Cost:1.5631323353263994e+141,  Iteration:73/100\n",
      "W:[-7.44330763e+71  7.85349078e+71],  b:-2.1082139430969217e+70,  Cost:1.3818543545985716e+143,  Iteration:74/100\n",
      "W:[ 6.99840756e+72 -7.38407332e+72],  b:1.98220215282266e+71,  Cost:1.2215993580123247e+145,  Iteration:75/100\n",
      "W:[-6.58009999e+73  6.94271380e+73],  b:-1.863722316949952e+72,  Cost:1.0799292896027656e+147,  Iteration:76/100\n",
      "W:[ 6.18679541e+74 -6.52773514e+74],  b:1.7523242368348154e+73,  Cost:9.546888371319587e+148,  Iteration:77/100\n",
      "W:[-5.81699938e+75  6.13756051e+75],  b:-1.647584623026853e+74,  Cost:8.439726420232817e+150,  Iteration:78/100\n",
      "W:[ 5.46930672e+76 -5.77070733e+76],  b:1.5491054868576963e+75,  Cost:7.460963119916574e+152,  Iteration:79/100\n",
      "W:[-5.14239629e+77  5.42578164e+77],  b:-1.456512628167147e+76,  Cost:6.595707953673181e+154,  Iteration:80/100\n",
      "W:[ 4.83502589e+78 -5.10147278e+78],  b:1.3694542134206816e+77,  Cost:5.830797272542218e+156,  Iteration:81/100\n",
      "W:[-4.54602758e+79  4.79654845e+79],  b:-1.2875994388154664e+78,  Cost:5.154594028765634e+158,  Iteration:82/100\n",
      "W:[ 4.27430322e+80 -4.50985001e+80],  b:1.2106372732949568e+79,  Cost:4.556810734358102e+160,  Iteration:83/100\n",
      "W:[-4.01882033e+81  4.24028805e+81],  b:-1.1382752766958134e+80,  Cost:4.028352951344588e+162,  Iteration:84/100\n",
      "W:[ 3.77860811e+82 -3.98683831e+82],  b:1.0702384885363225e+81,  Cost:3.561180932587618e+164,  Iteration:85/100\n",
      "W:[-3.55275382e+83  3.74853771e+83],  b:-1.0062683832239694e+82,  Cost:3.148187308262698e+166,  Iteration:86/100\n",
      "W:[ 3.34039924e+84 -3.52448078e+84],  b:9.461218877121478e+82,  Cost:2.7830889571524123e+168,  Iteration:87/100\n",
      "W:[-3.14073749e+85  3.31381614e+85],  b:-8.895704578733259e+83,  Cost:2.460331417731953e+170,  Iteration:88/100\n",
      "W:[ 2.95300989e+86 -3.11574331e+86],  b:8.363992100790692e+84,  Cost:2.175004384794238e+172,  Iteration:89/100\n",
      "W:[-2.77650310e+87  2.92950965e+87],  b:-7.864061046871105e+85,  Cost:1.922767006013803e+174,  Iteration:90/100\n",
      "W:[ 2.61054645e+88 -2.75440752e+88],  b:7.394011783328808e+86,  Cost:1.699781841940992e+176,  Iteration:91/100\n",
      "W:[-2.45450933e+89  2.58977156e+89],  b:-6.952058221083817e+87,  Cost:1.5026564847200057e+178,  Iteration:92/100\n",
      "W:[ 2.30779884e+90 -2.43497620e+90],  b:6.536521028856173e+88,  Cost:1.3283919473411283e+180,  Iteration:93/100\n",
      "W:[-2.16985749e+91  2.28943323e+91],  b:-6.145821252057639e+89,  Cost:1.1743370382416868e+182,  Iteration:94/100\n",
      "W:[ 2.04016115e+92 -2.15258963e+92],  b:5.778474313093873e+90,  Cost:1.0381480271290106e+184,  Iteration:95/100\n",
      "W:[-1.91821700e+93  2.02392543e+93],  b:-5.4330843702794615e+91,  Cost:9.177529883972271e+185,  Iteration:96/100\n",
      "W:[ 1.80356168e+94 -1.90295171e+94],  b:5.108339013930895e+92,  Cost:8.113202796727675e+187,  Iteration:97/100\n",
      "W:[-1.69575951e+95  1.78920882e+95],  b:-4.803004279483742e+93,  Cost:7.172306759336796e+189,  Iteration:98/100\n",
      "W:[ 1.59440087e+96 -1.68226455e+96],  b:4.515919958684873e+94,  Cost:6.340527352622886e+191,  Iteration:99/100\n",
      "Weights: [ 1.59440087e+96 -1.68226455e+96]\n",
      "Bias: 4.515919958684873e+94\n"
     ]
    }
   ],
   "source": [
    "X = np.random.randn(16, 2)  # Example input with 16 samples and 2 features\n",
    "y = np.random.randn(16)     # Example target with 16 samples\n",
    "\n",
    "W, b = batch_gradient_descent(X, y, rate= 0.00001)\n",
    "print(\"Weights:\", W)\n",
    "print(\"Bias:\", b)"
   ]
  },
  {
   "cell_type": "code",
   "execution_count": null,
   "metadata": {},
   "outputs": [],
   "source": []
  }
 ],
 "metadata": {
  "kernelspec": {
   "display_name": "myproject",
   "language": "python",
   "name": "myproject"
  },
  "language_info": {
   "codemirror_mode": {
    "name": "ipython",
    "version": 3
   },
   "file_extension": ".py",
   "mimetype": "text/x-python",
   "name": "python",
   "nbconvert_exporter": "python",
   "pygments_lexer": "ipython3",
   "version": "3.11.6"
  }
 },
 "nbformat": 4,
 "nbformat_minor": 2
}
