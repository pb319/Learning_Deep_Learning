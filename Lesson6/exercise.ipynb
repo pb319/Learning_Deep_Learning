{
 "cells": [
  {
   "cell_type": "code",
   "execution_count": 3,
   "metadata": {},
   "outputs": [],
   "source": [
    "import warnings\n",
    "warnings.filterwarnings(\"ignore\")"
   ]
  },
  {
   "cell_type": "code",
   "execution_count": 4,
   "metadata": {},
   "outputs": [
    {
     "data": {
      "text/html": [
       "<div>\n",
       "<style scoped>\n",
       "    .dataframe tbody tr th:only-of-type {\n",
       "        vertical-align: middle;\n",
       "    }\n",
       "\n",
       "    .dataframe tbody tr th {\n",
       "        vertical-align: top;\n",
       "    }\n",
       "\n",
       "    .dataframe thead th {\n",
       "        text-align: right;\n",
       "    }\n",
       "</style>\n",
       "<table border=\"1\" class=\"dataframe\">\n",
       "  <thead>\n",
       "    <tr style=\"text-align: right;\">\n",
       "      <th></th>\n",
       "      <th>area</th>\n",
       "      <th>bedrooms</th>\n",
       "      <th>price</th>\n",
       "    </tr>\n",
       "  </thead>\n",
       "  <tbody>\n",
       "    <tr>\n",
       "      <th>0</th>\n",
       "      <td>1056</td>\n",
       "      <td>2</td>\n",
       "      <td>39.07</td>\n",
       "    </tr>\n",
       "    <tr>\n",
       "      <th>1</th>\n",
       "      <td>2600</td>\n",
       "      <td>4</td>\n",
       "      <td>120.00</td>\n",
       "    </tr>\n",
       "    <tr>\n",
       "      <th>2</th>\n",
       "      <td>1440</td>\n",
       "      <td>3</td>\n",
       "      <td>62.00</td>\n",
       "    </tr>\n",
       "    <tr>\n",
       "      <th>3</th>\n",
       "      <td>1521</td>\n",
       "      <td>3</td>\n",
       "      <td>75.00</td>\n",
       "    </tr>\n",
       "    <tr>\n",
       "      <th>4</th>\n",
       "      <td>1200</td>\n",
       "      <td>2</td>\n",
       "      <td>51.00</td>\n",
       "    </tr>\n",
       "  </tbody>\n",
       "</table>\n",
       "</div>"
      ],
      "text/plain": [
       "   area  bedrooms   price\n",
       "0  1056         2   39.07\n",
       "1  2600         4  120.00\n",
       "2  1440         3   62.00\n",
       "3  1521         3   75.00\n",
       "4  1200         2   51.00"
      ]
     },
     "execution_count": 4,
     "metadata": {},
     "output_type": "execute_result"
    }
   ],
   "source": [
    "import numpy as np \n",
    "import pandas as pd\n",
    "df = pd.read_csv(\"/home/prasun/GitDemo/Learning_Deep_Learning/Lesson6/banglore_house.csv\")\n",
    "df.head()"
   ]
  },
  {
   "cell_type": "code",
   "execution_count": 5,
   "metadata": {},
   "outputs": [
    {
     "name": "stdout",
     "output_type": "stream",
     "text": [
      "[1, 3, 2, 3, 6, 1, 4, 6, 1, 3]\n"
     ]
    }
   ],
   "source": [
    "import random\n",
    "lst = []\n",
    "for _ in range(10):\n",
    "    lst.append(random.randint(1,6))\n",
    "print(lst)\n"
   ]
  },
  {
   "cell_type": "code",
   "execution_count": 6,
   "metadata": {},
   "outputs": [
    {
     "data": {
      "text/plain": [
       "((16, 2), (4, 2), (16, 1), (4, 1))"
      ]
     },
     "execution_count": 6,
     "metadata": {},
     "output_type": "execute_result"
    }
   ],
   "source": [
    "from sklearn.model_selection import train_test_split\n",
    "X_train, X_test, y_train, y_test = train_test_split((df.drop([\"price\"],axis='columns')), df[['price']], test_size= 0.20)\n",
    "X_train.shape, X_test.shape, y_train.shape, y_test.shape"
   ]
  },
  {
   "cell_type": "code",
   "execution_count": 7,
   "metadata": {},
   "outputs": [],
   "source": [
    "from sklearn.preprocessing import MinMaxScaler\n",
    "scx = MinMaxScaler()\n",
    "scy = MinMaxScaler()\n",
    "X_trainsc = scx.fit_transform(X_train) \n",
    "y_trainsc = scy.fit_transform(y_train)"
   ]
  },
  {
   "cell_type": "code",
   "execution_count": 8,
   "metadata": {},
   "outputs": [],
   "source": [
    "def sigmoid(x):\n",
    "    return 1/(1+np.exp(-x))"
   ]
  },
  {
   "cell_type": "code",
   "execution_count": 9,
   "metadata": {},
   "outputs": [],
   "source": [
    "def logloss(y_true,f_x):\n",
    "    eps = 1e-15\n",
    "    y_pred = [max(i,eps) for i in f_x]\n",
    "    y_pred = [min(i,1-eps) for i in y_pred]\n",
    "    y_pred = np.array(y_pred)\n",
    "    loss = (y_true)*(np.log(y_pred))+(1-y_true)*(np.log(1-y_pred))\n",
    "    return -np.mean(loss)\n",
    "    "
   ]
  },
  {
   "cell_type": "code",
   "execution_count": 38,
   "metadata": {},
   "outputs": [],
   "source": [
    "import random\n",
    "def minibatch(X,y,epochs=100,rate=0.05,size = 0.20):\n",
    "    batch = int(X.shape[0]*size)\n",
    "\n",
    "    w = np.ones(X.shape[1])\n",
    "    b = 0 \n",
    "    \n",
    "    for i in range(epochs):\n",
    "        idx = []\n",
    "        idy = []\n",
    "\n",
    "        for i in range(epochs):\n",
    "\n",
    "            for _ in range(batch):\n",
    "                id = (random.randint(0,X.shape[0]-1))\n",
    "                idx.append(X.values[id])\n",
    "                idy.append(y.values[id])\n",
    "                print(f\"{idx};\\n{idy}\")\n",
    "\n",
    "            X_out = np.array(idx)\n",
    "            y_out = np.array(idy)\n",
    "\n",
    "            f_x = np.dot(w, X_out) + b\n",
    "            dj_dw = np.dot((f_x-y_out),X_out.T)\n",
    "            dj_db = np.mean(f_x-y_out)\n",
    "\n",
    "            w = w - dj_dw\n",
    "            b = b - dj_db\n",
    "\n",
    "            cost = np.mean(np.square(f_x - y_out))/2\n",
    "            print( f\"iteration:{i}, w:{w}, b:{b}, loss: {cost}\")\n",
    "\n",
    "        return w,b"
   ]
  },
  {
   "cell_type": "code",
   "execution_count": 39,
   "metadata": {},
   "outputs": [
    {
     "name": "stdout",
     "output_type": "stream",
     "text": [
      "[array([2250,    3])];\n",
      "[array([101.])]\n",
      "[array([2250,    3]), array([1100,    2])];\n",
      "[array([101.]), array([40.])]\n",
      "[array([2250,    3]), array([1100,    2]), array([2732,    4])];\n",
      "[array([101.]), array([40.]), array([135.])]\n"
     ]
    },
    {
     "ename": "ValueError",
     "evalue": "operands could not be broadcast together with shapes (2,) (3,3) ",
     "output_type": "error",
     "traceback": [
      "\u001b[0;31m---------------------------------------------------------------------------\u001b[0m",
      "\u001b[0;31mValueError\u001b[0m                                Traceback (most recent call last)",
      "Cell \u001b[0;32mIn[39], line 1\u001b[0m\n\u001b[0;32m----> 1\u001b[0m \u001b[43mminibatch\u001b[49m\u001b[43m(\u001b[49m\u001b[43mX_train\u001b[49m\u001b[43m,\u001b[49m\u001b[43my_train\u001b[49m\u001b[43m)\u001b[49m\n",
      "Cell \u001b[0;32mIn[38], line 27\u001b[0m, in \u001b[0;36mminibatch\u001b[0;34m(X, y, epochs, rate, size)\u001b[0m\n\u001b[1;32m     24\u001b[0m dj_dw \u001b[38;5;241m=\u001b[39m np\u001b[38;5;241m.\u001b[39mdot((f_x\u001b[38;5;241m-\u001b[39my_out),X_out\u001b[38;5;241m.\u001b[39mT)\n\u001b[1;32m     25\u001b[0m dj_db \u001b[38;5;241m=\u001b[39m np\u001b[38;5;241m.\u001b[39mmean(f_x\u001b[38;5;241m-\u001b[39my_out)\n\u001b[0;32m---> 27\u001b[0m w \u001b[38;5;241m=\u001b[39m \u001b[43mw\u001b[49m\u001b[43m \u001b[49m\u001b[38;5;241;43m-\u001b[39;49m\u001b[43m \u001b[49m\u001b[43mdj_dw\u001b[49m\n\u001b[1;32m     28\u001b[0m b \u001b[38;5;241m=\u001b[39m b \u001b[38;5;241m-\u001b[39m dj_db\n\u001b[1;32m     30\u001b[0m cost \u001b[38;5;241m=\u001b[39m np\u001b[38;5;241m.\u001b[39mmean(np\u001b[38;5;241m.\u001b[39msquare(f_x \u001b[38;5;241m-\u001b[39m y_out))\u001b[38;5;241m/\u001b[39m\u001b[38;5;241m2\u001b[39m\n",
      "\u001b[0;31mValueError\u001b[0m: operands could not be broadcast together with shapes (2,) (3,3) "
     ]
    }
   ],
   "source": [
    "minibatch(X_train,y_train)"
   ]
  },
  {
   "cell_type": "code",
   "execution_count": null,
   "metadata": {},
   "outputs": [],
   "source": []
  },
  {
   "cell_type": "code",
   "execution_count": null,
   "metadata": {},
   "outputs": [],
   "source": []
  }
 ],
 "metadata": {
  "kernelspec": {
   "display_name": "myproject",
   "language": "python",
   "name": "myproject"
  },
  "language_info": {
   "codemirror_mode": {
    "name": "ipython",
    "version": 3
   },
   "file_extension": ".py",
   "mimetype": "text/x-python",
   "name": "python",
   "nbconvert_exporter": "python",
   "pygments_lexer": "ipython3",
   "version": "3.11.6"
  }
 },
 "nbformat": 4,
 "nbformat_minor": 2
}
