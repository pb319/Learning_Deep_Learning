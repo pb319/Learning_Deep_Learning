{
 "cells": [
  {
   "cell_type": "code",
   "execution_count": 25,
   "metadata": {},
   "outputs": [],
   "source": [
    "import tensorflow as tf"
   ]
  },
  {
   "cell_type": "code",
   "execution_count": 26,
   "metadata": {},
   "outputs": [],
   "source": [
    "sales = [21,105,112,-19,206]"
   ]
  },
  {
   "cell_type": "code",
   "execution_count": 27,
   "metadata": {},
   "outputs": [],
   "source": [
    "# Crating Input Pipeline\n",
    "tf_dataset = tf.data.Dataset.from_tensor_slices(sales)"
   ]
  },
  {
   "cell_type": "code",
   "execution_count": 28,
   "metadata": {},
   "outputs": [
    {
     "name": "stdout",
     "output_type": "stream",
     "text": [
      "21\n",
      "105\n",
      "112\n",
      "-19\n",
      "206\n"
     ]
    }
   ],
   "source": [
    "# Iterating through each element (method-1)\n",
    "for sale in tf_dataset.as_numpy_iterator():\n",
    "    print(sale)"
   ]
  },
  {
   "cell_type": "code",
   "execution_count": 29,
   "metadata": {},
   "outputs": [
    {
     "name": "stdout",
     "output_type": "stream",
     "text": [
      "21\n",
      "105\n",
      "112\n",
      "-19\n",
      "206\n"
     ]
    }
   ],
   "source": [
    "# Iterating through each element (method-2)\n",
    "for sale in tf_dataset:\n",
    "    print(sale.numpy())"
   ]
  },
  {
   "cell_type": "code",
   "execution_count": 30,
   "metadata": {},
   "outputs": [
    {
     "name": "stdout",
     "output_type": "stream",
     "text": [
      "21\n",
      "105\n",
      "112\n"
     ]
    }
   ],
   "source": [
    "# First 3 Elements\n",
    "for sale in tf_dataset.take(3).as_numpy_iterator():\n",
    "    print(sale)"
   ]
  },
  {
   "cell_type": "code",
   "execution_count": 31,
   "metadata": {},
   "outputs": [
    {
     "name": "stdout",
     "output_type": "stream",
     "text": [
      "21\n",
      "105\n",
      "112\n",
      "206\n"
     ]
    }
   ],
   "source": [
    "#Lets filter them out\n",
    "tf_dataset = tf_dataset.filter(lambda x: x>0)\n",
    "for sale in tf_dataset.as_numpy_iterator():\n",
    "    print(sale)"
   ]
  },
  {
   "cell_type": "code",
   "execution_count": 32,
   "metadata": {},
   "outputs": [
    {
     "name": "stdout",
     "output_type": "stream",
     "text": [
      "1827\n",
      "9135\n",
      "9744\n",
      "17922\n"
     ]
    }
   ],
   "source": [
    "# Lets apply some function\n",
    "tf_dataset = tf_dataset.map(lambda x : x* 87)\n",
    "for sale in tf_dataset.as_numpy_iterator():\n",
    "    print(sale)"
   ]
  },
  {
   "cell_type": "code",
   "execution_count": 33,
   "metadata": {},
   "outputs": [
    {
     "name": "stdout",
     "output_type": "stream",
     "text": [
      "9135\n",
      "1827\n",
      "17922\n",
      "9744\n"
     ]
    }
   ],
   "source": [
    "# Let's shuffle\n",
    "tf_dataset = tf_dataset.shuffle(2)\n",
    "for sale in tf_dataset.as_numpy_iterator():\n",
    "    print(sale)"
   ]
  },
  {
   "cell_type": "code",
   "execution_count": 34,
   "metadata": {},
   "outputs": [
    {
     "name": "stdout",
     "output_type": "stream",
     "text": [
      "[ 1827  9135 17922]\n",
      "[9744]\n"
     ]
    }
   ],
   "source": [
    "# Let's create batch\n",
    "tf_dataset = tf_dataset.batch(3)\n",
    "for sale in tf_dataset.as_numpy_iterator():\n",
    "    print(sale)\n"
   ]
  },
  {
   "cell_type": "code",
   "execution_count": 38,
   "metadata": {},
   "outputs": [
    {
     "name": "stdout",
     "output_type": "stream",
     "text": [
      "[1743 9296 8715]\n",
      "[17098]\n"
     ]
    }
   ],
   "source": [
    "# ETL in one line\n",
    "data = tf.data.Dataset.from_tensor_slices(sales)\n",
    "dataset = data.filter(lambda x : x>2).map(lambda y: y*83).shuffle(2).batch(3)\n",
    "for item in dataset.as_numpy_iterator():\n",
    "    print(item)\n"
   ]
  },
  {
   "cell_type": "code",
   "execution_count": 40,
   "metadata": {},
   "outputs": [
    {
     "name": "stdout",
     "output_type": "stream",
     "text": [
      "b'dataset/daisy/100080576_f52e8ee070_n.jpg'\n",
      "b'dataset/daisy/10140303196_b88d3d6cec.jpg'\n",
      "b'dataset/daisy/10172379554_b296050f82_n.jpg'\n"
     ]
    }
   ],
   "source": [
    "# Loading images\n",
    "images = tf.data.Dataset.list_files(\"dataset/*/*\",shuffle= False)\n",
    "for file in images.take(3):\n",
    "    print(file.numpy())"
   ]
  },
  {
   "cell_type": "code",
   "execution_count": null,
   "metadata": {},
   "outputs": [],
   "source": []
  }
 ],
 "metadata": {
  "kernelspec": {
   "display_name": "penv",
   "language": "python",
   "name": "python3"
  },
  "language_info": {
   "codemirror_mode": {
    "name": "ipython",
    "version": 3
   },
   "file_extension": ".py",
   "mimetype": "text/x-python",
   "name": "python",
   "nbconvert_exporter": "python",
   "pygments_lexer": "ipython3",
   "version": "3.11.6"
  }
 },
 "nbformat": 4,
 "nbformat_minor": 2
}
