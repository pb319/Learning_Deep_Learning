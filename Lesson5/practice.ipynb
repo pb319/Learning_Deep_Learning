{
 "cells": [
  {
   "cell_type": "code",
   "execution_count": 1,
   "metadata": {},
   "outputs": [],
   "source": [
    "import warnings\n",
    "warnings.filterwarnings(\"ignore\")"
   ]
  },
  {
   "cell_type": "code",
   "execution_count": 4,
   "metadata": {},
   "outputs": [],
   "source": [
    "import numpy as np\n",
    "import pandas as pd"
   ]
  },
  {
   "cell_type": "code",
   "execution_count": 5,
   "metadata": {},
   "outputs": [],
   "source": [
    "def sigmoid(x):\n",
    "    return (1/(1+np.exp(-x)))"
   ]
  },
  {
   "cell_type": "code",
   "execution_count": 6,
   "metadata": {},
   "outputs": [],
   "source": [
    "def logloss(y_true,f_x):\n",
    "    epsilon = 1e-15\n",
    "    y_pred = [max(i,epsilon)for i in f_x]\n",
    "    y_pred = [min(i,1-epsilon)for i in f_x]\n",
    "    loss = y_true*np.log(y_pred) + (1-y_true)*np.log(1-f_x)\n",
    "    return - np.mean(loss)"
   ]
  },
  {
   "cell_type": "code",
   "execution_count": 7,
   "metadata": {},
   "outputs": [],
   "source": [
    "def gradient_descent(age, afford, ylabel,epoch):\n",
    "    w1 = w2 = 1\n",
    "    bias = 0\n",
    "    rate = 0.05\n",
    "    for i in range(epoch):\n",
    "        wsum = w1*age + w2*afford + bias\n",
    "        pred = sigmoid(wsum)\n",
    "\n",
    "        dj_dw1 = np.mean(np.dot(np.transpose(age),(ylabel - pred))*age)\n",
    "        dj_dw2 = np.mean(np.dot(np.transpose(age),(ylabel - pred))*afford)\n",
    "        dj_db = np.mean(np.dot(np.transpose(age),(ylabel - pred)))\n",
    "\n",
    "        w1 = w1 - (rate*dj_dw1)\n",
    "        w2 = w2 - (rate*dj_dw2)\n",
    "        bias = bias - (rate*dj_db) \n",
    "\n",
    "    return w1, w2, bias\n",
    "\n",
    "\n"
   ]
  },
  {
   "cell_type": "code",
   "execution_count": null,
   "metadata": {},
   "outputs": [],
   "source": []
  }
 ],
 "metadata": {
  "kernelspec": {
   "display_name": "myproject",
   "language": "python",
   "name": "myproject"
  },
  "language_info": {
   "codemirror_mode": {
    "name": "ipython",
    "version": 3
   },
   "file_extension": ".py",
   "mimetype": "text/x-python",
   "name": "python",
   "nbconvert_exporter": "python",
   "pygments_lexer": "ipython3",
   "version": "3.11.6"
  }
 },
 "nbformat": 4,
 "nbformat_minor": 2
}
